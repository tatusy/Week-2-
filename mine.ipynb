{
 "cells": [
  {
   "cell_type": "code",
   "execution_count": null,
   "id": "227d0afe",
   "metadata": {},
   "outputs": [],
   "source": [
    "Positions = list(['G','G','G','-','B','B','B'])\n",
    "print(\"ENTER AN INTEGER LESS THAN 7\")\n",
    "print(\"[ 0 ,  1 ,  2 ,  3 ,  4 ,  5 ,  6 ]\")\n",
    "print(Positions)\n",
    "confirm = '0'\n",
    "while True:\n",
    "    pos = input(\"Press q to quit else \\nEnter position of piece:\")\n",
    "    if pos == 'q':\n",
    "        confirm = input(\"are you sure you want to quit the game? YES/NO?\")\n",
    "        if confirm == 'YES':\n",
    "            print('YOU LOOSE!')\n",
    "        else:\n",
    "            print(\"Please continue the game!\")\n",
    "    break\n",
    "    pos = int(pos)\n",
    "\n",
    "    if pos<0 or 6<pos:\n",
    "        print(\"Invalid move\")\n",
    "        continue\n",
    "    if Positions[pos] == '-':\n",
    "        print(\"Invalid move\")\n",
    "        continue\n",
    "\n",
    "    if Positions[pos] == 'G':\n",
    "        if (pos + 1) <= 6 and Positions[pos + 1] == '-':\n",
    "            pass\n",
    "        elif (pos + 2) <= 6 and Positions[pos + 2] == '-' and Positions[pos + 1] == 'B':\n",
    "            pass\n",
    "        else:\n",
    "            print(\"Invalid move\")\n",
    "            break\n",
    "    if Positions[pos] == 'B':\n",
    "        if (pos - 1) >= 0 and Positions[pos - 1] == '-':\n",
    "            pass\n",
    "        elif (pos - 2) >= 0 and Positions[pos - 2] == '-' and Positions[pos - 1] == 'G':\n",
    "            pass\n",
    "        else:\n",
    "            print(\"Invalid move\")\n",
    "\n",
    "    pos2 = 0\n",
    "    if Positions[pos] == 'G':\n",
    "        if Positions[pos + 1] == '-':\n",
    "            pos2 = (pos+1)\n",
    "        elif Positions[pos + 2] == '-':\n",
    "            pos2 = (pos+2)\n",
    "    if Positions[pos] == 'B':\n",
    "        if Positions[pos - 1] == '-':\n",
    "            pos2 = (pos-1)\n",
    "        elif Positions[pos - 2] == '-':\n",
    "            pos2 = (pos-2)\n",
    "        #swapping\n",
    "    Positions[pos], Positions[pos2] = Positions[pos2], Positions[pos]\n",
    "   #displaying the positions again after user input\n",
    "    print(\"[ 0 ,  1 ,  2 ,  3 ,  4 ,  5 ,  6 ]\")\n",
    "    print(Positions)\n",
    "\n",
    "    if Positions == ['B','B','B','-','G','G','G']:\n",
    "        print(\"YOU WIN\")\n",
    "        break"
   ]
  },
  {
   "cell_type": "code",
   "execution_count": null,
   "id": "a3409242",
   "metadata": {},
   "outputs": [],
   "source": []
  },
  {
   "cell_type": "code",
   "execution_count": null,
   "id": "760bba88",
   "metadata": {},
   "outputs": [],
   "source": []
  }
 ],
 "metadata": {
  "kernelspec": {
   "display_name": "Python 3 (ipykernel)",
   "language": "python",
   "name": "python3"
  },
  "language_info": {
   "codemirror_mode": {
    "name": "ipython",
    "version": 3
   },
   "file_extension": ".py",
   "mimetype": "text/x-python",
   "name": "python",
   "nbconvert_exporter": "python",
   "pygments_lexer": "ipython3",
   "version": "3.11.5"
  }
 },
 "nbformat": 4,
 "nbformat_minor": 5
}
